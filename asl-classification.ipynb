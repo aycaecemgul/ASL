{
  "nbformat": 4,
  "nbformat_minor": 0,
  "metadata": {
    "colab": {
      "name": "Untitled0.ipynb",
      "provenance": [],
      "collapsed_sections": []
    },
    "kernelspec": {
      "name": "python3",
      "display_name": "Python 3"
    },
    "language_info": {
      "name": "python"
    },
    "accelerator": "GPU"
  },
  "cells": [
    {
      "cell_type": "code",
      "metadata": {
        "id": "CSxLxwbb2bch"
      },
      "source": [
        "import numpy as np\n",
        "import os\n",
        "from numpy import asarray\n",
        "from PIL import Image\n",
        "import tensorflow as tf\n",
        "from sklearn.model_selection import train_test_split\n",
        "from keras_preprocessing.image import ImageDataGenerator\n",
        "from tensorflow.keras.layers import Dense, Flatten,MaxPooling2D,Conv2D,Dropout"
      ],
      "execution_count": 1,
      "outputs": []
    },
    {
      "cell_type": "code",
      "metadata": {
        "id": "TfWtGXmqbggL",
        "cellView": "form",
        "colab": {
          "base_uri": "https://localhost:8080/"
        },
        "outputId": "4581f6fb-c685-4e60-8213-3f05bc35bc45"
      },
      "source": [
        "#@markdown <br><center><img src='https://upload.wikimedia.org/wikipedia/commons/thumb/d/da/Google_Drive_logo.png/600px-Google_Drive_logo.png' height=\"50\" alt=\"Gdrive-logo\"/></center>\n",
        "#@markdown <center><h3>Mount GDrive to /content/drive</h3></center><br>\n",
        "MODE = \"MOUNT\" #@param [\"MOUNT\", \"UNMOUNT\"]\n",
        "#Mount your Gdrive! \n",
        "from google.colab import drive\n",
        "drive.mount._DEBUG = False\n",
        "if MODE == \"MOUNT\":\n",
        "  drive.mount('/content/drive', force_remount=True)\n",
        "elif MODE == \"UNMOUNT\":\n",
        "  try:\n",
        "    drive.flush_and_unmount()\n",
        "  except ValueError:\n",
        "    pass\n",
        "  get_ipython().system_raw(\"rm -rf /root/.config/Google/DriveFS\")"
      ],
      "execution_count": 4,
      "outputs": [
        {
          "output_type": "stream",
          "text": [
            "Mounted at /content/drive\n"
          ],
          "name": "stdout"
        }
      ]
    },
    {
      "cell_type": "code",
      "metadata": {
        "id": "3DgKQ1IZ3uS3"
      },
      "source": [
        "DIR= \"/content/drive/MyDrive/asl-dataset\"\n",
        "IMG_SHAPE=(200,200,3)\n",
        "IMG_SIZE=200\n",
        "NUM_OF_CLASSES=29\n",
        "CATEGORIES=[\"A\",\"B\",\"C\",\"D\",\"del\",\"E\",\"F\",\"G\",\n",
        "            \"H\",\"I\",\"J\",\"K\",\"L\",\"M\",\"N\",\"nothing\",\n",
        "            \"O\",\"P\",\"Q\",\"R\",\"S\",\"space\",\"T\",\"U\",\n",
        "            \"V\",\"W\",\"X\",\"Y\",\"Z\"]"
      ],
      "execution_count": 2,
      "outputs": []
    },
    {
      "cell_type": "code",
      "metadata": {
        "colab": {
          "base_uri": "https://localhost:8080/"
        },
        "id": "kijd77Vp33vC",
        "outputId": "6bbca29f-49ca-44f1-d21c-02d6828ab9d5"
      },
      "source": [
        "dataset_train=tf.keras.preprocessing.image_dataset_from_directory(\n",
        "    DIR,\n",
        "    labels=\"inferred\",\n",
        "    label_mode=\"int\",\n",
        "    class_names=CATEGORIES,\n",
        "    color_mode=\"rgb\",\n",
        "    image_size=(200,200),\n",
        "    shuffle=True,\n",
        "    seed=123,\n",
        "    validation_split=0.33,\n",
        "    subset=\"training\"\n",
        ")"
      ],
      "execution_count": 3,
      "outputs": [
        {
          "output_type": "stream",
          "text": [
            "Found 10854 files belonging to 29 classes.\n",
            "Using 7273 files for training.\n"
          ],
          "name": "stdout"
        }
      ]
    },
    {
      "cell_type": "code",
      "metadata": {
        "colab": {
          "base_uri": "https://localhost:8080/"
        },
        "id": "ZPmtg98Y36MP",
        "outputId": "445e3012-9647-4fa1-c4d4-f4624f6f47be"
      },
      "source": [
        "dataset_val=tf.keras.preprocessing.image_dataset_from_directory(\n",
        "    DIR,\n",
        "    labels=\"inferred\",\n",
        "    label_mode=\"int\",\n",
        "    class_names=CATEGORIES,\n",
        "    color_mode=\"rgb\",\n",
        "    image_size=(200,200),\n",
        "    shuffle=True,\n",
        "    seed=123,\n",
        "    validation_split=0.33,\n",
        "    subset=\"validation\"\n",
        ")"
      ],
      "execution_count": 4,
      "outputs": [
        {
          "output_type": "stream",
          "text": [
            "Found 10854 files belonging to 29 classes.\n",
            "Using 3581 files for validation.\n"
          ],
          "name": "stdout"
        }
      ]
    },
    {
      "cell_type": "code",
      "metadata": {
        "colab": {
          "base_uri": "https://localhost:8080/"
        },
        "id": "Pbtzv9SB3-Ku",
        "outputId": "ab9b33bd-fc43-4f82-ed93-29a711c95991"
      },
      "source": [
        "model=tf.keras.models.Sequential()\n",
        "model.add(Conv2D(512, (3, 3),input_shape=IMG_SHAPE,activation=tf.nn.relu))\n",
        "model.add(MaxPooling2D(pool_size=(2, 2)))\n",
        "\n",
        "\n",
        "model.add(Conv2D(256, (3, 3),activation=tf.nn.relu))\n",
        "model.add(MaxPooling2D(pool_size=(2, 2)))\n",
        "\n",
        "model.add(Conv2D(128, (3, 3),activation=tf.nn.relu))\n",
        "model.add(MaxPooling2D(pool_size=(2, 2)))\n",
        "\n",
        "model.add(Conv2D(64, (3, 3),activation=tf.nn.relu))\n",
        "model.add(MaxPooling2D(pool_size=(2, 2)))\n",
        "\n",
        "model.add(Flatten())\n",
        "model.add(Dense(NUM_OF_CLASSES,activation=tf.nn.softmax))\n",
        "\n",
        "model.summary()"
      ],
      "execution_count": 5,
      "outputs": [
        {
          "output_type": "stream",
          "text": [
            "Model: \"sequential\"\n",
            "_________________________________________________________________\n",
            "Layer (type)                 Output Shape              Param #   \n",
            "=================================================================\n",
            "conv2d (Conv2D)              (None, 198, 198, 512)     14336     \n",
            "_________________________________________________________________\n",
            "max_pooling2d (MaxPooling2D) (None, 99, 99, 512)       0         \n",
            "_________________________________________________________________\n",
            "conv2d_1 (Conv2D)            (None, 97, 97, 256)       1179904   \n",
            "_________________________________________________________________\n",
            "max_pooling2d_1 (MaxPooling2 (None, 48, 48, 256)       0         \n",
            "_________________________________________________________________\n",
            "conv2d_2 (Conv2D)            (None, 46, 46, 128)       295040    \n",
            "_________________________________________________________________\n",
            "max_pooling2d_2 (MaxPooling2 (None, 23, 23, 128)       0         \n",
            "_________________________________________________________________\n",
            "conv2d_3 (Conv2D)            (None, 21, 21, 64)        73792     \n",
            "_________________________________________________________________\n",
            "max_pooling2d_3 (MaxPooling2 (None, 10, 10, 64)        0         \n",
            "_________________________________________________________________\n",
            "flatten (Flatten)            (None, 6400)              0         \n",
            "_________________________________________________________________\n",
            "dense (Dense)                (None, 29)                185629    \n",
            "=================================================================\n",
            "Total params: 1,748,701\n",
            "Trainable params: 1,748,701\n",
            "Non-trainable params: 0\n",
            "_________________________________________________________________\n"
          ],
          "name": "stdout"
        }
      ]
    },
    {
      "cell_type": "code",
      "metadata": {
        "colab": {
          "base_uri": "https://localhost:8080/"
        },
        "id": "l_oH1d6Z4AsT",
        "outputId": "fb60181d-e329-4cd9-87cd-9b8392c8679c"
      },
      "source": [
        "model.compile(optimizer=\"adam\",loss=\"sparse_categorical_crossentropy\",metrics=[\"accuracy\"])\n",
        "model.fit(dataset_train,validation_data = dataset_val, epochs=10,verbose=2)"
      ],
      "execution_count": 6,
      "outputs": [
        {
          "output_type": "stream",
          "text": [
            "Epoch 1/10\n",
            "228/228 - 137s - loss: 4.6503 - accuracy: 0.1096 - val_loss: 2.7898 - val_accuracy: 0.2159\n",
            "Epoch 2/10\n",
            "228/228 - 99s - loss: 2.2493 - accuracy: 0.3569 - val_loss: 1.9098 - val_accuracy: 0.4538\n",
            "Epoch 3/10\n",
            "228/228 - 100s - loss: 1.3159 - accuracy: 0.5959 - val_loss: 1.3197 - val_accuracy: 0.6107\n",
            "Epoch 4/10\n",
            "228/228 - 100s - loss: 0.8190 - accuracy: 0.7419 - val_loss: 1.0315 - val_accuracy: 0.7018\n",
            "Epoch 5/10\n",
            "228/228 - 100s - loss: 0.4770 - accuracy: 0.8375 - val_loss: 1.0788 - val_accuracy: 0.7328\n",
            "Epoch 6/10\n",
            "228/228 - 101s - loss: 0.3403 - accuracy: 0.8890 - val_loss: 0.9707 - val_accuracy: 0.7716\n",
            "Epoch 7/10\n",
            "228/228 - 101s - loss: 0.2626 - accuracy: 0.9142 - val_loss: 0.8776 - val_accuracy: 0.8040\n",
            "Epoch 8/10\n",
            "228/228 - 100s - loss: 0.2131 - accuracy: 0.9302 - val_loss: 1.0170 - val_accuracy: 0.7992\n",
            "Epoch 9/10\n",
            "228/228 - 100s - loss: 0.1977 - accuracy: 0.9369 - val_loss: 0.8782 - val_accuracy: 0.8174\n",
            "Epoch 10/10\n",
            "228/228 - 100s - loss: 0.1539 - accuracy: 0.9501 - val_loss: 1.1033 - val_accuracy: 0.7847\n"
          ],
          "name": "stdout"
        },
        {
          "output_type": "execute_result",
          "data": {
            "text/plain": [
              "<tensorflow.python.keras.callbacks.History at 0x7f4d80b52a90>"
            ]
          },
          "metadata": {
            "tags": []
          },
          "execution_count": 6
        }
      ]
    },
    {
      "cell_type": "code",
      "metadata": {
        "colab": {
          "base_uri": "https://localhost:8080/"
        },
        "id": "bpQ3dgYK4EPS",
        "outputId": "70731fb0-2fbd-4716-c0d3-75efc16b0d93"
      },
      "source": [
        "model.save(\"asl_classifier.model\")"
      ],
      "execution_count": 7,
      "outputs": [
        {
          "output_type": "stream",
          "text": [
            "INFO:tensorflow:Assets written to: asl_classifier.model/assets\n"
          ],
          "name": "stdout"
        }
      ]
    },
    {
      "cell_type": "code",
      "metadata": {
        "id": "HcZz-wlHGEAW"
      },
      "source": [
        "base_model=tf.keras.applications.VGG16(\n",
        "    include_top=False, \n",
        "    weights='imagenet',\n",
        "    input_shape=(200, 200, 3)\n",
        ")\n",
        "\n",
        "base_model.trainable=False"
      ],
      "execution_count": 12,
      "outputs": []
    },
    {
      "cell_type": "code",
      "metadata": {
        "colab": {
          "base_uri": "https://localhost:8080/"
        },
        "id": "qWITXlKVGaHR",
        "outputId": "b44397dc-3bb2-44c9-ad60-d107ded28b19"
      },
      "source": [
        "model = tf.keras.models.Sequential()\n",
        "\n",
        "model.add(base_model)\n",
        "model.add(Flatten())\n",
        "model.add(Dense(NUM_OF_CLASSES,activation=\"softmax\"))\n",
        "model.summary()"
      ],
      "execution_count": 13,
      "outputs": [
        {
          "output_type": "stream",
          "text": [
            "Model: \"sequential_2\"\n",
            "_________________________________________________________________\n",
            "Layer (type)                 Output Shape              Param #   \n",
            "=================================================================\n",
            "vgg16 (Functional)           (None, 6, 6, 512)         14714688  \n",
            "_________________________________________________________________\n",
            "flatten_2 (Flatten)          (None, 18432)             0         \n",
            "_________________________________________________________________\n",
            "dense_2 (Dense)              (None, 29)                534557    \n",
            "=================================================================\n",
            "Total params: 15,249,245\n",
            "Trainable params: 534,557\n",
            "Non-trainable params: 14,714,688\n",
            "_________________________________________________________________\n"
          ],
          "name": "stdout"
        }
      ]
    },
    {
      "cell_type": "code",
      "metadata": {
        "colab": {
          "base_uri": "https://localhost:8080/"
        },
        "id": "lRtY993HGtdb",
        "outputId": "ebf20832-1aa0-4bf1-bbd9-16ecbfa8608c"
      },
      "source": [
        "model.compile(loss=\"sparse_categorical_crossentropy\", optimizer='adam', metrics=['accuracy'])\n",
        "model.fit(dataset_train,validation_data = dataset_val, epochs=10,verbose=2)"
      ],
      "execution_count": 14,
      "outputs": [
        {
          "output_type": "stream",
          "text": [
            "Epoch 1/10\n",
            "228/228 - 56s - loss: 6.5195 - accuracy: 0.7366 - val_loss: 2.2999 - val_accuracy: 0.8780\n",
            "Epoch 2/10\n",
            "228/228 - 54s - loss: 1.2680 - accuracy: 0.9295 - val_loss: 2.5961 - val_accuracy: 0.8852\n",
            "Epoch 3/10\n",
            "228/228 - 55s - loss: 0.8899 - accuracy: 0.9517 - val_loss: 2.1571 - val_accuracy: 0.9126\n",
            "Epoch 4/10\n",
            "228/228 - 55s - loss: 0.6769 - accuracy: 0.9654 - val_loss: 2.9961 - val_accuracy: 0.8992\n",
            "Epoch 5/10\n",
            "228/228 - 55s - loss: 0.6151 - accuracy: 0.9711 - val_loss: 1.5868 - val_accuracy: 0.9391\n",
            "Epoch 6/10\n",
            "228/228 - 56s - loss: 0.7331 - accuracy: 0.9682 - val_loss: 1.7050 - val_accuracy: 0.9408\n",
            "Epoch 7/10\n",
            "228/228 - 56s - loss: 0.4892 - accuracy: 0.9792 - val_loss: 1.8143 - val_accuracy: 0.9347\n",
            "Epoch 8/10\n",
            "228/228 - 55s - loss: 0.8597 - accuracy: 0.9671 - val_loss: 2.1685 - val_accuracy: 0.9450\n",
            "Epoch 9/10\n",
            "228/228 - 55s - loss: 0.5956 - accuracy: 0.9787 - val_loss: 1.5065 - val_accuracy: 0.9542\n",
            "Epoch 10/10\n",
            "228/228 - 56s - loss: 0.3000 - accuracy: 0.9839 - val_loss: 2.3469 - val_accuracy: 0.9372\n"
          ],
          "name": "stdout"
        },
        {
          "output_type": "execute_result",
          "data": {
            "text/plain": [
              "<tensorflow.python.keras.callbacks.History at 0x7f4d2c0da0d0>"
            ]
          },
          "metadata": {
            "tags": []
          },
          "execution_count": 14
        }
      ]
    }
  ]
}